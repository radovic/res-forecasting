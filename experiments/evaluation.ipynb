{
 "cells": [
  {
   "cell_type": "markdown",
   "id": "dc4808c7-b4e3-4f36-91b5-6f93c993add3",
   "metadata": {},
   "source": [
    "# Evaluation"
   ]
  },
  {
   "cell_type": "markdown",
   "id": "28f55526-9fcf-4588-8edf-147eedcd8be5",
   "metadata": {},
   "source": [
    "## Loading"
   ]
  },
  {
   "cell_type": "code",
   "execution_count": 50,
   "id": "b60fdf5d-bdc6-4d86-b94a-b0034f7c51a1",
   "metadata": {},
   "outputs": [],
   "source": [
    "# Import libraries\n",
    "import os\n",
    "import torch\n",
    "import numpy as np\n",
    "import pandas as pd\n",
    "import matplotlib.pyplot as plt\n",
    "from torch.utils.data import DataLoader\n",
    "from mlres.modules.networks import WaveNet\n",
    "from mlres.dataset import GermanWeatherEnergy"
   ]
  },
  {
   "cell_type": "code",
   "execution_count": 85,
   "id": "fa99fbc6-2b8d-4463-ad54-6d9624aa825a",
   "metadata": {},
   "outputs": [],
   "source": [
    "# Define hyperparameters\n",
    "n_layers = 9\n",
    "target_idx = 1202\n",
    "n_channels = 256\n",
    "window_size = 288\n",
    "horizon = 96\n",
    "results_dir = \"/home/martius-lab/Desktop/renewable_ml/cluster_results/\"\n",
    "data_dir = \"/home/martius-lab/Desktop/renewable_ml/data/\"\n",
    "name_run = 'photovoltaic/2020_49ff077411ad07791c532f00b365526b'\n",
    "loss_log_frequency = 10"
   ]
  },
  {
   "cell_type": "code",
   "execution_count": 58,
   "id": "597ace4d-12d7-409b-a707-46b8c8b39506",
   "metadata": {},
   "outputs": [
    {
     "name": "stdout",
     "output_type": "stream",
     "text": [
      "Loading and preprocessing data...\n",
      "Loaded weather data in 5.97 seconds.\n",
      "Loaded energy data in 0.85 seconds.\n",
      "Merged realisation data in 0.02 seconds.\n",
      "Converted to datetime format in 0.78 seconds.\n",
      "Converted energy data to UTC in 0.02 seconds.\n",
      "Filled missing weather data in 19.74 seconds.\n",
      "Stacked locations in 44.88 seconds.\n",
      "Filled missing energy data in 0.70 seconds.\n",
      "Combined weather and energy data in 1.84 seconds.\n",
      "Split time into integers in 0.07 seconds.\n",
      "Split data into training and validation sets in 0.82 seconds.\n",
      "Normalized data in 6.16 seconds.\n",
      "Processed data generated successfully.\n"
     ]
    }
   ],
   "source": [
    "# Load data\n",
    "device = torch.device('cuda' if torch.cuda.is_available() else 'cpu')\n",
    "weather_energy_data = GermanWeatherEnergy(target_idx=target_idx, \n",
    "                                          window_size=window_size, \n",
    "                                          horizon=horizon, \n",
    "                                          data_dir=data_dir, \n",
    "                                          device=device)"
   ]
  },
  {
   "cell_type": "code",
   "execution_count": 86,
   "id": "3bc50549-51cc-44bf-8e40-269e723b32b9",
   "metadata": {},
   "outputs": [],
   "source": [
    "weather_energy_data.target_idx = target_idx\n",
    "weather_energy_data.window_size = window_size"
   ]
  },
  {
   "cell_type": "code",
   "execution_count": 87,
   "id": "6f7159e6-f698-44ed-a2dc-993134d8de83",
   "metadata": {},
   "outputs": [],
   "source": [
    "# Get the test data and create the loader\n",
    "train_data, val_data = weather_energy_data.get_train_and_val_data()\n",
    "test_data = weather_energy_data.get_test_data()\n",
    "test_loader = DataLoader(test_data, batch_size=32, shuffle=False)"
   ]
  },
  {
   "cell_type": "code",
   "execution_count": 88,
   "id": "a2a13853-0f2d-4f33-a53f-bf9a3c768a2f",
   "metadata": {
    "scrolled": true
   },
   "outputs": [
    {
     "data": {
      "text/plain": [
       "WaveNet(\n",
       "  (layers): ModuleList(\n",
       "    (0): DilatedConvLayer1d(\n",
       "      (conv): Conv1d(1219, 256, kernel_size=(2,), stride=(1,))\n",
       "      (activation): ReLU()\n",
       "      (residual): Conv1d(1219, 256, kernel_size=(1,), stride=(1,))\n",
       "    )\n",
       "    (1): DilatedConvLayer1d(\n",
       "      (conv): Conv1d(256, 256, kernel_size=(2,), stride=(1,), dilation=(2,))\n",
       "      (activation): ReLU()\n",
       "      (residual): Conv1d(256, 256, kernel_size=(1,), stride=(1,))\n",
       "    )\n",
       "    (2): DilatedConvLayer1d(\n",
       "      (conv): Conv1d(256, 256, kernel_size=(2,), stride=(1,), dilation=(4,))\n",
       "      (activation): ReLU()\n",
       "      (residual): Conv1d(256, 256, kernel_size=(1,), stride=(1,))\n",
       "    )\n",
       "    (3): DilatedConvLayer1d(\n",
       "      (conv): Conv1d(256, 256, kernel_size=(2,), stride=(1,), dilation=(8,))\n",
       "      (activation): ReLU()\n",
       "      (residual): Conv1d(256, 256, kernel_size=(1,), stride=(1,))\n",
       "    )\n",
       "    (4): DilatedConvLayer1d(\n",
       "      (conv): Conv1d(256, 256, kernel_size=(2,), stride=(1,), dilation=(16,))\n",
       "      (activation): ReLU()\n",
       "      (residual): Conv1d(256, 256, kernel_size=(1,), stride=(1,))\n",
       "    )\n",
       "    (5): DilatedConvLayer1d(\n",
       "      (conv): Conv1d(256, 256, kernel_size=(2,), stride=(1,), dilation=(32,))\n",
       "      (activation): ReLU()\n",
       "      (residual): Conv1d(256, 256, kernel_size=(1,), stride=(1,))\n",
       "    )\n",
       "    (6): DilatedConvLayer1d(\n",
       "      (conv): Conv1d(256, 256, kernel_size=(2,), stride=(1,), dilation=(64,))\n",
       "      (activation): ReLU()\n",
       "      (residual): Conv1d(256, 256, kernel_size=(1,), stride=(1,))\n",
       "    )\n",
       "    (7): DilatedConvLayer1d(\n",
       "      (conv): Conv1d(256, 256, kernel_size=(2,), stride=(1,), dilation=(128,))\n",
       "      (activation): ReLU()\n",
       "      (residual): Conv1d(256, 256, kernel_size=(1,), stride=(1,))\n",
       "    )\n",
       "    (8): DilatedConvLayer1d(\n",
       "      (conv): Conv1d(256, 256, kernel_size=(2,), stride=(1,), dilation=(256,))\n",
       "      (activation): ReLU()\n",
       "      (residual): Conv1d(256, 256, kernel_size=(1,), stride=(1,))\n",
       "    )\n",
       "    (9): Conv1d(256, 1, kernel_size=(1,), stride=(1,))\n",
       "  )\n",
       ")"
      ]
     },
     "execution_count": 88,
     "metadata": {},
     "output_type": "execute_result"
    }
   ],
   "source": [
    "# Load the model\n",
    "n_features = test_data.data.shape[1]\n",
    "model = WaveNet(n_layers=n_layers, n_input_channels=n_features, n_channels=n_channels, window_size=window_size, horizon=horizon).to(device)\n",
    "model.load_state_dict(torch.load(os.path.join(results_dir, name_run, 'best_model.pth')))\n",
    "model.eval()"
   ]
  },
  {
   "cell_type": "markdown",
   "id": "64d95d09-3a2f-4520-a045-b914cb927de0",
   "metadata": {},
   "source": [
    "## Experimentation"
   ]
  },
  {
   "cell_type": "markdown",
   "id": "f93aecb6-ced9-42d2-9ae4-cd75f805fc26",
   "metadata": {},
   "source": [
    "### Whole test dataset"
   ]
  },
  {
   "cell_type": "code",
   "execution_count": 89,
   "id": "26484158-9b74-4265-95db-54f37634aa92",
   "metadata": {},
   "outputs": [],
   "source": [
    "# Initialize the loss and criterion\n",
    "criterion = torch.nn.L1Loss()\n",
    "RMSE = lambda x, y: torch.sqrt(torch.nn.MSELoss()(x, y))\n",
    "total_test_loss = 0\n",
    "total_rmse = 0"
   ]
  },
  {
   "cell_type": "code",
   "execution_count": 90,
   "id": "9b2128e0-c01f-46bc-a9e5-ffa5b0f3213e",
   "metadata": {
    "scrolled": true
   },
   "outputs": [
    {
     "name": "stdout",
     "output_type": "stream",
     "text": [
      "Test Batch 0, Loss: 102.54953002929688, RMSE: 207.44326782226562\n",
      "Test Batch 10, Loss: 104.79112243652344, RMSE: 242.5322723388672\n",
      "Test Batch 20, Loss: 30.80617904663086, RMSE: 61.549156188964844\n",
      "Test Batch 30, Loss: 37.228797912597656, RMSE: 77.94087982177734\n",
      "Test Batch 40, Loss: 46.71116256713867, RMSE: 94.45216369628906\n",
      "Test Batch 50, Loss: 53.53037643432617, RMSE: 109.53829956054688\n",
      "Test Batch 60, Loss: 191.97006225585938, RMSE: 396.17291259765625\n",
      "Test Batch 70, Loss: 99.4249267578125, RMSE: 109.7126235961914\n",
      "Test Batch 80, Loss: 29.451200485229492, RMSE: 55.91123580932617\n",
      "Test Batch 90, Loss: 60.770042419433594, RMSE: 117.92109680175781\n",
      "Test Batch 100, Loss: 39.954978942871094, RMSE: 79.07279205322266\n",
      "Test Batch 110, Loss: 105.70848846435547, RMSE: 179.2920379638672\n",
      "Test Batch 120, Loss: 53.4945182800293, RMSE: 99.56546783447266\n",
      "Test Batch 130, Loss: 114.96481323242188, RMSE: 347.5014953613281\n",
      "Test Batch 140, Loss: 130.6136474609375, RMSE: 213.90896606445312\n",
      "Test Batch 150, Loss: 451.040283203125, RMSE: 738.3090209960938\n",
      "Test Batch 160, Loss: 126.4138412475586, RMSE: 100.26810455322266\n",
      "Test Batch 170, Loss: 59.45153045654297, RMSE: 101.4472885131836\n",
      "Test Batch 180, Loss: 184.5278778076172, RMSE: 327.7518310546875\n",
      "Test Batch 190, Loss: 88.43858337402344, RMSE: 126.51380157470703\n",
      "Test Batch 200, Loss: 175.85089111328125, RMSE: 306.00555419921875\n",
      "Test Batch 210, Loss: 298.09173583984375, RMSE: 502.531005859375\n",
      "Test Batch 220, Loss: 322.46441650390625, RMSE: 357.5516662597656\n",
      "Test Batch 230, Loss: 171.8829345703125, RMSE: 293.8782653808594\n",
      "Test Batch 240, Loss: 71.12433624267578, RMSE: 139.58839416503906\n",
      "Test Batch 250, Loss: 163.52752685546875, RMSE: 319.9341125488281\n",
      "Test Batch 260, Loss: 96.091552734375, RMSE: 155.5602264404297\n",
      "Test Batch 270, Loss: 166.46385192871094, RMSE: 299.2445068359375\n",
      "Test Batch 280, Loss: 156.3394775390625, RMSE: 212.3321990966797\n",
      "Test Batch 290, Loss: 412.9275817871094, RMSE: 654.5931396484375\n",
      "Test Batch 300, Loss: 261.29913330078125, RMSE: 487.4187927246094\n",
      "Test Batch 310, Loss: 138.10809326171875, RMSE: 199.47705078125\n",
      "Test Batch 320, Loss: 163.25955200195312, RMSE: 248.0200958251953\n",
      "Test Batch 330, Loss: 134.12351989746094, RMSE: 230.91275024414062\n",
      "Test Batch 340, Loss: 245.7498779296875, RMSE: 374.7854919433594\n",
      "Test Batch 350, Loss: 81.8936767578125, RMSE: 150.7627410888672\n",
      "Test Batch 360, Loss: 279.76495361328125, RMSE: 492.74749755859375\n",
      "Test Batch 370, Loss: 163.50982666015625, RMSE: 236.44143676757812\n",
      "Test Batch 380, Loss: 288.1310119628906, RMSE: 475.7358093261719\n",
      "Test Batch 390, Loss: 269.05322265625, RMSE: 376.3561096191406\n",
      "Test Batch 400, Loss: 187.44102478027344, RMSE: 388.4334411621094\n",
      "Test Batch 410, Loss: 90.04838562011719, RMSE: 143.28125\n",
      "Test Batch 420, Loss: 175.6798095703125, RMSE: 296.0044250488281\n",
      "Test Batch 430, Loss: 237.8251190185547, RMSE: 333.9702453613281\n",
      "Test Batch 440, Loss: 261.88946533203125, RMSE: 436.79620361328125\n",
      "Test Batch 450, Loss: 170.93894958496094, RMSE: 220.87039184570312\n",
      "Test Batch 460, Loss: 285.2201232910156, RMSE: 457.3500061035156\n",
      "Test Batch 470, Loss: 128.49411010742188, RMSE: 218.18580627441406\n",
      "Test Batch 480, Loss: 121.01342010498047, RMSE: 211.63211059570312\n",
      "Test Batch 490, Loss: 178.9320068359375, RMSE: 318.3754577636719\n",
      "Test Batch 500, Loss: 499.61199951171875, RMSE: 761.9766235351562\n",
      "Test Batch 510, Loss: 267.9090576171875, RMSE: 368.5926818847656\n",
      "Test Batch 520, Loss: 99.64974212646484, RMSE: 184.92979431152344\n",
      "Test Batch 530, Loss: 370.1326599121094, RMSE: 594.7554931640625\n",
      "Test Batch 540, Loss: 137.24671936035156, RMSE: 193.92713928222656\n",
      "Test Batch 550, Loss: 150.53440856933594, RMSE: 293.9033508300781\n",
      "Test Batch 560, Loss: 94.42608642578125, RMSE: 142.03623962402344\n",
      "Test Batch 570, Loss: 308.28271484375, RMSE: 445.3280334472656\n",
      "Test Batch 580, Loss: 248.75193786621094, RMSE: 487.116943359375\n",
      "Test Batch 590, Loss: 299.20538330078125, RMSE: 440.8497619628906\n",
      "Test Batch 600, Loss: 169.95896911621094, RMSE: 370.2306213378906\n",
      "Test Batch 610, Loss: 118.83055114746094, RMSE: 157.31185913085938\n",
      "Test Batch 620, Loss: 189.24615478515625, RMSE: 264.8062744140625\n",
      "Test Batch 630, Loss: 304.26409912109375, RMSE: 439.69189453125\n",
      "Test Batch 640, Loss: 181.1248016357422, RMSE: 200.24154663085938\n",
      "Test Batch 650, Loss: 125.83943176269531, RMSE: 183.13088989257812\n",
      "Test Batch 660, Loss: 116.80409240722656, RMSE: 215.78347778320312\n",
      "Test Batch 670, Loss: 191.829833984375, RMSE: 433.0240173339844\n",
      "Test Batch 680, Loss: 142.07693481445312, RMSE: 237.2830810546875\n",
      "Test Batch 690, Loss: 127.9037094116211, RMSE: 187.74354553222656\n",
      "Test Batch 700, Loss: 84.40458679199219, RMSE: 126.0315933227539\n",
      "Test Batch 710, Loss: 197.03536987304688, RMSE: 336.1215515136719\n",
      "Test Batch 720, Loss: 172.4883270263672, RMSE: 310.70831298828125\n",
      "Test Batch 730, Loss: 164.59620666503906, RMSE: 281.6315612792969\n",
      "Test Batch 740, Loss: 255.5778045654297, RMSE: 413.8935852050781\n",
      "Test Batch 750, Loss: 341.593017578125, RMSE: 544.8247680664062\n",
      "Test Batch 760, Loss: 245.28955078125, RMSE: 244.69850158691406\n",
      "Test Batch 770, Loss: 74.07972717285156, RMSE: 146.00279235839844\n",
      "Test Batch 780, Loss: 72.80685424804688, RMSE: 112.4545669555664\n",
      "Test Batch 790, Loss: 89.16215515136719, RMSE: 161.35081481933594\n",
      "Test Batch 800, Loss: 60.51992416381836, RMSE: 111.32891082763672\n",
      "Test Batch 810, Loss: 257.8931579589844, RMSE: 457.57513427734375\n",
      "Test Batch 820, Loss: 123.0616683959961, RMSE: 164.9871368408203\n",
      "Test Batch 830, Loss: 145.6341552734375, RMSE: 240.7140350341797\n",
      "Test Batch 840, Loss: 111.95414733886719, RMSE: 201.1840362548828\n",
      "Test Batch 850, Loss: 108.1422119140625, RMSE: 249.7642059326172\n",
      "Test Batch 860, Loss: 140.36204528808594, RMSE: 227.07366943359375\n",
      "Test Batch 870, Loss: 80.6938705444336, RMSE: 156.01661682128906\n",
      "Test Batch 880, Loss: 179.4403076171875, RMSE: 179.39126586914062\n",
      "Test Batch 890, Loss: 249.33445739746094, RMSE: 442.8981018066406\n",
      "Test Batch 900, Loss: 89.63023376464844, RMSE: 191.00779724121094\n",
      "Test Batch 910, Loss: 111.07598876953125, RMSE: 142.31173706054688\n",
      "Test Batch 920, Loss: 94.76302337646484, RMSE: 198.2267608642578\n",
      "Test Batch 930, Loss: 216.26947021484375, RMSE: 404.192138671875\n",
      "Test Batch 940, Loss: 52.675376892089844, RMSE: 81.69944763183594\n",
      "Test Batch 950, Loss: 18.703468322753906, RMSE: 33.6370849609375\n",
      "Test Batch 960, Loss: 46.179588317871094, RMSE: 56.62169647216797\n",
      "Test Batch 970, Loss: 62.6898193359375, RMSE: 135.8668975830078\n",
      "Test Batch 980, Loss: 44.65599060058594, RMSE: 85.23045349121094\n",
      "Test Batch 990, Loss: 56.65378952026367, RMSE: 114.95703887939453\n",
      "Test Batch 1000, Loss: 47.79339599609375, RMSE: 41.20198440551758\n",
      "Test Batch 1010, Loss: 144.66738891601562, RMSE: 299.80889892578125\n",
      "Test Batch 1020, Loss: 51.223228454589844, RMSE: 106.28917694091797\n",
      "Test Batch 1030, Loss: 46.233985900878906, RMSE: 76.37712860107422\n",
      "Test Batch 1040, Loss: 95.99504089355469, RMSE: 190.49839782714844\n",
      "Test Batch 1050, Loss: 39.888397216796875, RMSE: 87.62063598632812\n",
      "Test Batch 1060, Loss: 75.79342651367188, RMSE: 233.6485137939453\n",
      "Test Batch 1070, Loss: 102.91866302490234, RMSE: 215.95550537109375\n",
      "Test Loss: 141.47181933367693\n",
      "RMSE: 241.81676515120049\n"
     ]
    }
   ],
   "source": [
    "# Compute the losses\n",
    "for i, (x, y) in enumerate(test_loader):\n",
    "    with torch.no_grad():\n",
    "        y_hat = model(torch.transpose(x, 2, 1)).reshape(y.shape)\n",
    "        loss = criterion(y_hat, y)\n",
    "        rmse = RMSE(y[-1], y_hat[-1])\n",
    "        total_test_loss += loss.item()\n",
    "        total_rmse += rmse.item()\n",
    "        if i % loss_log_frequency == 0:\n",
    "            print(f\"Test Batch {i}, Loss: {loss.item()}, RMSE: {rmse.item()}\")\n",
    "test_loss = total_test_loss / len(test_loader)\n",
    "test_rmse = total_rmse / len(test_loader)\n",
    "print(f\"Test Loss: {test_loss}\")\n",
    "print(f\"RMSE: {test_rmse}\")"
   ]
  },
  {
   "cell_type": "markdown",
   "id": "7729c705-3059-4d07-984f-9f283e2fb9b2",
   "metadata": {},
   "source": [
    "### Single example from the test dataset"
   ]
  },
  {
   "cell_type": "code",
   "execution_count": 103,
   "id": "f603c204-7df1-4a80-baf4-74515e80b41a",
   "metadata": {},
   "outputs": [],
   "source": [
    "# Load the example\n",
    "example_number = 5320\n",
    "example = test_data[example_number]\n",
    "start_time = weather_energy_data.test_data['time'][example_number]\n",
    "inputs, targets = example"
   ]
  },
  {
   "cell_type": "code",
   "execution_count": 104,
   "id": "998314e9-252c-4c05-bcb7-6bfac4e45e6c",
   "metadata": {},
   "outputs": [
    {
     "name": "stdout",
     "output_type": "stream",
     "text": [
      "1066.11083984375\n"
     ]
    }
   ],
   "source": [
    "# Obtain the forecast\n",
    "outputs = model(torch.transpose(inputs[None, ...], 2, 1)).reshape(targets.shape)\n",
    "print(criterion(outputs[-1], targets[-1]).item())"
   ]
  },
  {
   "cell_type": "code",
   "execution_count": 105,
   "id": "f8b3818a-55ef-4e2e-a9f9-93241a8ea882",
   "metadata": {},
   "outputs": [],
   "source": [
    "# Prepare the data for plotting\n",
    "x_window = start_time + np.arange(len(inputs)) * pd.Timedelta(minutes=15)\n",
    "x_horizon = start_time + (np.arange(len(outputs) + 1) + len(x_window) - 1) * pd.Timedelta(minutes=15)\n",
    "y_window = inputs[:, target_idx].cpu().detach().numpy()\n",
    "y_forecast = np.append([y_window[-1]], outputs.cpu().detach().numpy())\n",
    "y_ground_truth = np.append([y_window[-1]], targets.cpu().detach().numpy())"
   ]
  },
  {
   "cell_type": "code",
   "execution_count": 106,
   "id": "5546c010-4a6e-44d0-a414-437af50be190",
   "metadata": {},
   "outputs": [
    {
     "data": {
      "image/png": "[encoded data removed]",
      "text/plain": [
       "<Figure size 640x480 with 1 Axes>"
      ]
     },
     "metadata": {},
     "output_type": "display_data"
    }
   ],
   "source": [
    "# Plot the data\n",
    "plt.title(test_data.data.columns[target_idx])\n",
    "plt.ylim(-5, 10000)\n",
    "plt.xlim(start_time, start_time + (window_size + horizon) * pd.Timedelta(minutes=15))\n",
    "\n",
    "plt.plot(x_window, y_window, label='Window data')\n",
    "plt.plot(x_horizon, y_forecast, label='Forecast by WaveNet')\n",
    "plt.plot(x_horizon, y_ground_truth, label='Ground truth')\n",
    "plt.legend()\n",
    "\n",
    "plt.savefig('result.png')\n",
    "plt.show()"
   ]
  },
  {
   "cell_type": "code",
   "execution_count": 114,
   "id": "bb9f8007-3600-4710-b063-ebf19d570d61",
   "metadata": {},
   "outputs": [
    {
     "data": {
      "text/plain": [
       "Index(['cdir_loc0', 'z_loc0', 'msl_loc0', 'blh_loc0', 'tcc_loc0', 'u10_loc0',\n",
       "       'v10_loc0', 't2m_loc0', 'ssr_loc0', 'tsr_loc0', 'sund_loc0', 'tp_loc0',\n",
       "       'fsr_loc0', 'u100_loc0', 'v100_loc0', 'cdir_loc1'],\n",
       "      dtype='object')"
      ]
     },
     "execution_count": 114,
     "metadata": {},
     "output_type": "execute_result"
    }
   ],
   "source": [
    "test_data.data.columns[:16]"
   ]
  }
 ],
 "metadata": {
  "kernelspec": {
   "display_name": "Python 3 (ipykernel)",
   "language": "python",
   "name": "python3"
  },
  "language_info": {
   "codemirror_mode": {
    "name": "ipython",
    "version": 3
   },
   "file_extension": ".py",
   "mimetype": "text/x-python",
   "name": "python",
   "nbconvert_exporter": "python",
   "pygments_lexer": "ipython3",
   "version": "3.12.3"
  }
 },
 "nbformat": 4,
 "nbformat_minor": 5
}
